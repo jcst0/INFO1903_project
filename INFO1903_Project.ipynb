{
 "cells": [
  {
   "cell_type": "code",
   "execution_count": 1,
   "metadata": {},
   "outputs": [
    {
     "data": {
      "text/html": [
       "<div>\n",
       "<style>\n",
       "    .dataframe thead tr:only-child th {\n",
       "        text-align: right;\n",
       "    }\n",
       "\n",
       "    .dataframe thead th {\n",
       "        text-align: left;\n",
       "    }\n",
       "\n",
       "    .dataframe tbody tr th {\n",
       "        vertical-align: top;\n",
       "    }\n",
       "</style>\n",
       "<table border=\"1\" class=\"dataframe\">\n",
       "  <thead>\n",
       "    <tr style=\"text-align: right;\">\n",
       "      <th></th>\n",
       "      <th>occurrences</th>\n",
       "    </tr>\n",
       "    <tr>\n",
       "      <th>genus</th>\n",
       "      <th></th>\n",
       "    </tr>\n",
       "  </thead>\n",
       "  <tbody>\n",
       "    <tr>\n",
       "      <th>Lathamus</th>\n",
       "      <td>7</td>\n",
       "    </tr>\n",
       "    <tr>\n",
       "      <th>Neophema</th>\n",
       "      <td>6</td>\n",
       "    </tr>\n",
       "    <tr>\n",
       "      <th>Numenius</th>\n",
       "      <td>8</td>\n",
       "    </tr>\n",
       "    <tr>\n",
       "      <th>Calidris</th>\n",
       "      <td>7</td>\n",
       "    </tr>\n",
       "    <tr>\n",
       "      <th>Pedionomus</th>\n",
       "      <td>5</td>\n",
       "    </tr>\n",
       "    <tr>\n",
       "      <th>Aipysurus</th>\n",
       "      <td>3</td>\n",
       "    </tr>\n",
       "    <tr>\n",
       "      <th>Pseudophryne</th>\n",
       "      <td>2</td>\n",
       "    </tr>\n",
       "    <tr>\n",
       "      <th>Acanthocladium</th>\n",
       "      <td>2</td>\n",
       "    </tr>\n",
       "    <tr>\n",
       "      <th>Synemon</th>\n",
       "      <td>4</td>\n",
       "    </tr>\n",
       "    <tr>\n",
       "      <th>Calystegia</th>\n",
       "      <td>2</td>\n",
       "    </tr>\n",
       "    <tr>\n",
       "      <th>Pterodroma</th>\n",
       "      <td>2</td>\n",
       "    </tr>\n",
       "    <tr>\n",
       "      <th>Carcharias</th>\n",
       "      <td>6</td>\n",
       "    </tr>\n",
       "    <tr>\n",
       "      <th>Bidyanus</th>\n",
       "      <td>5</td>\n",
       "    </tr>\n",
       "    <tr>\n",
       "      <th>Ordtrachia</th>\n",
       "      <td>2</td>\n",
       "    </tr>\n",
       "    <tr>\n",
       "      <th>Galaxias</th>\n",
       "      <td>3</td>\n",
       "    </tr>\n",
       "    <tr>\n",
       "      <th>Anthochaera</th>\n",
       "      <td>6</td>\n",
       "    </tr>\n",
       "    <tr>\n",
       "      <th>Elymus</th>\n",
       "      <td>2</td>\n",
       "    </tr>\n",
       "    <tr>\n",
       "      <th>Glyphis</th>\n",
       "      <td>3</td>\n",
       "    </tr>\n",
       "    <tr>\n",
       "      <th>Thymichthys</th>\n",
       "      <td>2</td>\n",
       "    </tr>\n",
       "    <tr>\n",
       "      <th>Limosa</th>\n",
       "      <td>7</td>\n",
       "    </tr>\n",
       "    <tr>\n",
       "      <th>Miniopterus</th>\n",
       "      <td>2</td>\n",
       "    </tr>\n",
       "  </tbody>\n",
       "</table>\n",
       "</div>"
      ],
      "text/plain": [
       "                occurrences\n",
       "genus                      \n",
       "Lathamus                  7\n",
       "Neophema                  6\n",
       "Numenius                  8\n",
       "Calidris                  7\n",
       "Pedionomus                5\n",
       "Aipysurus                 3\n",
       "Pseudophryne              2\n",
       "Acanthocladium            2\n",
       "Synemon                   4\n",
       "Calystegia                2\n",
       "Pterodroma                2\n",
       "Carcharias                6\n",
       "Bidyanus                  5\n",
       "Ordtrachia                2\n",
       "Galaxias                  3\n",
       "Anthochaera               6\n",
       "Elymus                    2\n",
       "Glyphis                   3\n",
       "Thymichthys               2\n",
       "Limosa                    7\n",
       "Miniopterus               2"
      ]
     },
     "execution_count": 1,
     "metadata": {},
     "output_type": "execute_result"
    }
   ],
   "source": [
    "%matplotlib inline\n",
    "\n",
    "import pandas as pd\n",
    "\n",
    "df = pd.read_csv('analysis1.csv')\n",
    "df = df.set_index('genus')\n",
    "df"
   ]
  },
  {
   "cell_type": "code",
   "execution_count": 2,
   "metadata": {},
   "outputs": [
    {
     "data": {
      "text/plain": [
       "<matplotlib.axes._subplots.AxesSubplot at 0x10feb6f98>"
      ]
     },
     "execution_count": 2,
     "metadata": {},
     "output_type": "execute_result"
    },
    {
     "data": {
      "image/png": "[encoded data removed]",
      "text/plain": [
       "<matplotlib.figure.Figure at 0x10feb6710>"
      ]
     },
     "metadata": {},
     "output_type": "display_data"
    }
   ],
   "source": [
    "ax = df.plot(figsize=(8,6), kind='barh')\n",
    "ax.set_xlabel('occurrences')\n",
    "ax.set_title('Australian species considered Critically Endangered in TWO or more areas')\n",
    "ax"
   ]
  },
  {
   "cell_type": "code",
   "execution_count": 3,
   "metadata": {},
   "outputs": [
    {
     "data": {
      "application/vnd.jupyter.widget-view+json": {
       "model_id": "01d589ce8d82416ba4e3f93ce3349d83"
      }
     },
     "metadata": {},
     "output_type": "display_data"
    }
   ],
   "source": [
    "from IPython.display import display\n",
    "import pandas as pd\n",
    "from ipywidgets import interact, interactive\n",
    "import ipywidgets as widgets\n",
    "\n",
    "def f(x):\n",
    "   return x\n",
    "\n",
    "c = widgets.Dropdown(options={'One {DEFAULT}':'1','Two':'2','Three':'3','Four':'4','Five':'5'}, value='1',description='Choose number of areas: ')\n",
    "display(c)\n"
   ]
  },
  {
   "cell_type": "code",
   "execution_count": 8,
   "metadata": {},
   "outputs": [
    {
     "name": "stdout",
     "output_type": "stream",
     "text": [
      "                        occurrences\n",
      "scientific_name                    \n",
      "Notomys mordax                    2\n",
      "Caloprymnus campestris            2\n",
      "Macropus greyi                    2\n",
      "Lagorchestes asomatus             2\n",
      "Psephotus pulcherrimus            2\n",
      "Caladenia brachyscapa             2\n"
     ]
    }
   ],
   "source": [
    "%matplotlib inline\n",
    "\n",
    "import pandas as pd\n",
    "from ipywidgets import interact, interactive\n",
    "from IPython.display import display\n",
    "\n",
    "df2 = pd.read_csv('analysis2.csv')\n",
    "df2 = df2.set_index('scientific_name')\n",
    "\n",
    "result = int(c.value)\n",
    "if result > 1:\n",
    "    df2 = df2[df2.occurrences == result]\n",
    "    print(df2)\n",
    "else:\n",
    "    print(df2)\n"
   ]
  },
  {
   "cell_type": "code",
   "execution_count": 9,
   "metadata": {},
   "outputs": [
    {
     "data": {
      "text/plain": [
       "<matplotlib.axes._subplots.AxesSubplot at 0x1121cb1d0>"
      ]
     },
     "execution_count": 9,
     "metadata": {},
     "output_type": "execute_result"
    },
    {
     "data": {
      "image/png": "[encoded data removed]",
      "text/plain": [
       "<matplotlib.figure.Figure at 0x112573400>"
      ]
     },
     "metadata": {},
     "output_type": "display_data"
    }
   ],
   "source": [
    "ax2 = df2.plot(figsize=(8,6), kind='barh', color='r')\n",
    "ax2.set_xlabel('occurrences')\n",
    "ax2.set_ylabel('scientific name')\n",
    "ax2.set_title('Australian species considered Extinct in TWO or more areas')\n",
    "ax2"
   ]
  },
  {
   "cell_type": "code",
   "execution_count": null,
   "metadata": {
    "collapsed": true
   },
   "outputs": [],
   "source": []
  }
 ],
 "metadata": {
  "kernelspec": {
   "display_name": "Python 3",
   "language": "python",
   "name": "python3"
  },
  "language_info": {
   "codemirror_mode": {
    "name": "ipython",
    "version": 3
   },
   "file_extension": ".py",
   "mimetype": "text/x-python",
   "name": "python",
   "nbconvert_exporter": "python",
   "pygments_lexer": "ipython3",
   "version": "3.6.1"
  },
  "widgets": {
   "application/vnd.jupyter.widget-state+json": {
    "state": {
     "016a0296266d43e585e02bc233391e5c": {
      "model_module": "jupyter-js-widgets",
      "model_module_version": "~2.1.4",
      "model_name": "LayoutModel",
      "state": {
       "_model_module_version": "~2.1.4",
       "_view_module_version": "~2.1.4"
      }
     },
     "01d589ce8d82416ba4e3f93ce3349d83": {
      "model_module": "jupyter-js-widgets",
      "model_module_version": "~2.1.4",
      "model_name": "DropdownModel",
      "state": {
       "_model_module_version": "~2.1.4",
       "_options_labels": [
        "One {DEFAULT}",
        "Two",
        "Three",
        "Four",
        "Five"
       ],
       "_view_module_version": "~2.1.4",
       "description": "Choose number of areas: ",
       "layout": "IPY_MODEL_016a0296266d43e585e02bc233391e5c",
       "value": "Two"
      }
     }
    },
    "version_major": 1,
    "version_minor": 0
   }
  }
 },
 "nbformat": 4,
 "nbformat_minor": 2
}
